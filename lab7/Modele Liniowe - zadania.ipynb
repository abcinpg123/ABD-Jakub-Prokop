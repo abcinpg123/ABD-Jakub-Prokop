{
 "cells": [
  {
   "cell_type": "markdown",
   "metadata": {},
   "source": [
    "##  Regresja liniowa\n",
    "\n",
    "Regresja liniowa to tworzenie modeli przedstawiających wielkość, której wartość chcemy przewidzieć (zmienna zależna) jako kombinację liniową predyktorów (zmiennych zależnych).\n",
    "\n",
    "Struktura modelu ma postać\n",
    "\n",
    "$$\\tilde{y} = \\beta_0 + \\beta_1 x_1 + \\beta_2 x_2 +\\ldots+ \\beta_n x_n$$\n",
    "\n",
    "lub w formie macierzowej \n",
    "\n",
    "$$\\tilde{\\mathbf{y}} = \\mathbf{[1\\  X ]} \\beta$$\n",
    "\n",
    "gdzie wektor wartości zmiennych zależnych jest przewidywany na podstawie macierzy danych i wektora współczynników $\\beta$.\n",
    "\n",
    "Współczynnik $\\beta_0$ w nomentkalturze anglojęzycznej jest nazywany *intercept* ponieważ jest to punkt przecięcia się z osią $y$ gdy wszystkie predyktory są równe 0.\n",
    "\n",
    "Aby wyznaczyć parametry modelu liniowego potrzebujemy wektora danych uczących, tj. znanych nam wartości zmiennej zależnej  $\\mathbf{y}$ oraz odpowiadająxcej mu macierzy predyktorów $\\mathbf{X}$. Macierz predyktorów nosi nazwę *design matrix*, i bardzo użytyeczne do jej wyznaczenia (w oparciu o dane w forme dataframe) jest pakiet [patsy](https://patsy.readthedocs.io/en/latest/quickstart.html), a w szczególności funkcja ```dmatrices```.\n",
    "\n",
    "\n",
    "Model regresyjny ma mocne umocowanie statystyczne, jednak w ramach zajęć będziemy traktować go machinistycznie jak jedną z metod uczenia maszynowego. Do tworzenia takich modeli służy klasa ```LinearRegression```\n",
    "\n",
    "Do analizy regresji liniowej wykorzystywać będziemy pakiet ```scikit-learn``` oraz zawarte w nim klasy, głównie w modułach ```linear_model```, ```metrics``` oraz ```model_selection```. \n",
    "\n",
    "### Dane uczące i dane testowe\n",
    "\n",
    "Zazwyczaj rozwiązując problem nie mamy dostępu do dodatkowych danych testowych uzupełniających nasze dane uczące. Dlatego też, popularną praktyką jest podzielenie posiadanego zbioru danych w sposób losowy na dwa zbiory: uczący i testowy. Do tego służy funkcja ```train_test_split``` z modułu ```model_selection```. \n",
    "\n"
   ]
  },
  {
   "cell_type": "markdown",
   "metadata": {},
   "source": [
    "### Zadanie 1\n",
    "Na podstawie danych zawartych w pliku SCORES.csv wykonaj i oceń regresję liniową, gdzie Twoją daną niezależną (predyktorem) będą godziny poświęcone na przygotowanie, a wynikową uzyskane punkty. Wykonanie zadania powinno składać się z następujących kroków:\n",
    "1. Zaimportowanie niezbędnych bibliotek w szczególności tych tworzących modele liniowe z \"scikit-learn\", a także biblioteki do operacji na danych oraz tworzenia wykresów.\n",
    "2. Odczytaj dane z pliku SCORES.csv. Pomocne w interpretacji danych są metody: head(), describe(), shape.\n",
    "3. Wykonaj wstępny wykres uzyskanych danych (typu \"scatter\")\n",
    "4. Dokonaj podziału danych na zbiory danych niezależnych (wejściowe, X) oraz zaleznych (wyjściowe, y) dla swojego modelu, a następnie podziel zbiór na dane testowe i treningowe (30%)\n",
    "5. Utwróz model regresji liniowej za pomocą sklearn.\n",
    "6. Wypisz i przeanalizuj wyliczone wskaźniki dla modelu: coef_ oraz intercept_. Czym one są i do czego służą?\n",
    "7. Wykorzystając stworozny model dokonaj predykcji dla części testowej X. Porównaj wynik (y_pred) z posiadanymi danymi (y_test).\n",
    "8. Wykonaj wykres konfrontujący dane testowe (X_test, y_test; typu \"scatter\") oraz predykcje (X_test, y_pred; linia prosta)\n",
    "9. Dokonaj walidacji uzyskanych predykcji wykorzystując metryki: średni błąd bezwzględny (Mean Absolute Error), błąd średniokwadratowy (Mean Squared Error) oraz pierwiastek błędu średniokwadratowego (Root Mean Squared Error).\n",
    "\n",
    "Następnie utworzony skrypt wykorzystaj na danych zawartych w SBP.csv, gdzie predyktorem będzie wiek, a wynikiem ciśnienie (SBP). Czy uzyskane wyniki z modelu są równie zadowalające?"
   ]
  },
  {
   "cell_type": "code",
   "execution_count": 57,
   "metadata": {},
   "outputs": [],
   "source": [
    "import sklearn\n",
    "from sklearn import model_selection, metrics\n",
    "import pandas as pd\n",
    "import matplotlib.pyplot as plt\n",
    "from sklearn.linear_model import LinearRegression, LogisticRegression\n",
    "import numpy as np\n",
    "from sklearn.preprocessing import normalize"
   ]
  },
  {
   "cell_type": "code",
   "execution_count": 2,
   "metadata": {},
   "outputs": [
    {
     "data": {
      "text/html": [
       "<div>\n",
       "<style scoped>\n",
       "    .dataframe tbody tr th:only-of-type {\n",
       "        vertical-align: middle;\n",
       "    }\n",
       "\n",
       "    .dataframe tbody tr th {\n",
       "        vertical-align: top;\n",
       "    }\n",
       "\n",
       "    .dataframe thead th {\n",
       "        text-align: right;\n",
       "    }\n",
       "</style>\n",
       "<table border=\"1\" class=\"dataframe\">\n",
       "  <thead>\n",
       "    <tr style=\"text-align: right;\">\n",
       "      <th></th>\n",
       "      <th>Hours</th>\n",
       "      <th>Scores</th>\n",
       "    </tr>\n",
       "  </thead>\n",
       "  <tbody>\n",
       "    <tr>\n",
       "      <th>0</th>\n",
       "      <td>2.5</td>\n",
       "      <td>21</td>\n",
       "    </tr>\n",
       "    <tr>\n",
       "      <th>1</th>\n",
       "      <td>5.1</td>\n",
       "      <td>47</td>\n",
       "    </tr>\n",
       "    <tr>\n",
       "      <th>2</th>\n",
       "      <td>3.2</td>\n",
       "      <td>27</td>\n",
       "    </tr>\n",
       "    <tr>\n",
       "      <th>3</th>\n",
       "      <td>8.5</td>\n",
       "      <td>75</td>\n",
       "    </tr>\n",
       "    <tr>\n",
       "      <th>4</th>\n",
       "      <td>3.5</td>\n",
       "      <td>30</td>\n",
       "    </tr>\n",
       "    <tr>\n",
       "      <th>5</th>\n",
       "      <td>1.5</td>\n",
       "      <td>20</td>\n",
       "    </tr>\n",
       "    <tr>\n",
       "      <th>6</th>\n",
       "      <td>9.2</td>\n",
       "      <td>88</td>\n",
       "    </tr>\n",
       "    <tr>\n",
       "      <th>7</th>\n",
       "      <td>5.5</td>\n",
       "      <td>60</td>\n",
       "    </tr>\n",
       "    <tr>\n",
       "      <th>8</th>\n",
       "      <td>8.3</td>\n",
       "      <td>81</td>\n",
       "    </tr>\n",
       "    <tr>\n",
       "      <th>9</th>\n",
       "      <td>2.7</td>\n",
       "      <td>25</td>\n",
       "    </tr>\n",
       "  </tbody>\n",
       "</table>\n",
       "</div>"
      ],
      "text/plain": [
       "   Hours  Scores\n",
       "0    2.5      21\n",
       "1    5.1      47\n",
       "2    3.2      27\n",
       "3    8.5      75\n",
       "4    3.5      30\n",
       "5    1.5      20\n",
       "6    9.2      88\n",
       "7    5.5      60\n",
       "8    8.3      81\n",
       "9    2.7      25"
      ]
     },
     "execution_count": 2,
     "metadata": {},
     "output_type": "execute_result"
    }
   ],
   "source": [
    "data = pd.read_csv(\"SCORES.csv\")\n",
    "data.head(10)"
   ]
  },
  {
   "cell_type": "code",
   "execution_count": 3,
   "metadata": {},
   "outputs": [
    {
     "data": {
      "image/png": "[encoded data removed]",
      "text/plain": [
       "<Figure size 432x288 with 1 Axes>"
      ]
     },
     "metadata": {
      "needs_background": "light"
     },
     "output_type": "display_data"
    }
   ],
   "source": [
    "plt.scatter(data[\"Hours\"], data[\"Scores\"])\n",
    "plt.title(\"Dane z pliku SCORES.csv\")\n",
    "plt.xlabel(\"Hours\")\n",
    "plt.ylabel(\"Scores\")\n",
    "plt.show()"
   ]
  },
  {
   "cell_type": "code",
   "execution_count": 4,
   "metadata": {},
   "outputs": [
    {
     "name": "stdout",
     "output_type": "stream",
     "text": [
      "25 17 8\n"
     ]
    }
   ],
   "source": [
    "X = np.array(data[\"Hours\"])\n",
    "X = X[:, np.newaxis]\n",
    "Y = np.array(data[\"Scores\"])\n",
    "\n",
    "X_train, X_test, Y_train, Y_test = sklearn.model_selection.train_test_split(X, Y, test_size=0.3)\n",
    "\n",
    "print(len(X), len(X_train), len(X_test))"
   ]
  },
  {
   "cell_type": "code",
   "execution_count": 5,
   "metadata": {},
   "outputs": [
    {
     "name": "stdout",
     "output_type": "stream",
     "text": [
      "\n",
      "coef: [9.33420133]\n",
      "intercept: 5.799275240348926\n"
     ]
    }
   ],
   "source": [
    "lin_reg = LinearRegression().fit(X_train, Y_train)\n",
    "print(\"\\ncoef:\", lin_reg.coef_)\n",
    "print(\"intercept:\", lin_reg.intercept_)"
   ]
  },
  {
   "cell_type": "code",
   "execution_count": 6,
   "metadata": {},
   "outputs": [
    {
     "name": "stdout",
     "output_type": "stream",
     "text": [
      "\n",
      " [7.3939544  8.66871949 6.40370202 6.26924029 0.19942277 6.80318122\n",
      " 1.12893692 8.13477856]\n"
     ]
    },
    {
     "data": {
      "image/png": "[encoded data removed]",
      "text/plain": [
       "<Figure size 432x288 with 1 Axes>"
      ]
     },
     "metadata": {
      "needs_background": "light"
     },
     "output_type": "display_data"
    },
    {
     "name": "stdout",
     "output_type": "stream",
     "text": [
      "mean absolute error: 5.62524195784117\n",
      "mean squared error: 40.48752469248431\n",
      "root mean squared error: 6.36298080246077\n"
     ]
    }
   ],
   "source": [
    "Y_pred = lin_reg.predict(X_test)\n",
    "\n",
    "print(\"\\n\", np.abs(Y_test-Y_pred))\n",
    "\n",
    "plt.scatter(X_test, Y_test)\n",
    "plt.plot(X_test, Y_pred)\n",
    "plt.title(\"Dane testowe i predykcje modelu regresji liniowej\")\n",
    "plt.xlabel(\"Hours\")\n",
    "plt.ylabel(\"Scores\")\n",
    "plt.show()\n",
    "\n",
    "print(\"mean absolute error:\", metrics.mean_absolute_error(Y_test, Y_pred))\n",
    "print(\"mean squared error:\", metrics.mean_squared_error(Y_test, Y_pred))\n",
    "print(\"root mean squared error:\", metrics.mean_squared_error(Y_test, Y_pred, squared=False))"
   ]
  },
  {
   "cell_type": "code",
   "execution_count": 7,
   "metadata": {},
   "outputs": [
    {
     "name": "stdout",
     "output_type": "stream",
     "text": [
      "   Age  SBP\n",
      "0   60  117\n",
      "1   61  120\n",
      "2   74  145\n",
      "3   57  129\n",
      "4   63  132\n",
      "5   68  130\n",
      "6   66  127\n",
      "7   77  163\n",
      "8   63  136\n",
      "9   54  115\n"
     ]
    },
    {
     "data": {
      "image/png": "[encoded data removed]",
      "text/plain": [
       "<Figure size 432x288 with 1 Axes>"
      ]
     },
     "metadata": {
      "needs_background": "light"
     },
     "output_type": "display_data"
    },
    {
     "name": "stdout",
     "output_type": "stream",
     "text": [
      "\n",
      "coef: [1.39914577]\n",
      "intercept: 40.3638743455498\n",
      "\n",
      " [ 0.91774594  3.48994213 12.89639019  5.71176633  5.1109121  13.31262056]\n"
     ]
    },
    {
     "data": {
      "image/png": "[encoded data removed]",
      "text/plain": [
       "<Figure size 432x288 with 1 Axes>"
      ]
     },
     "metadata": {
      "needs_background": "light"
     },
     "output_type": "display_data"
    },
    {
     "name": "stdout",
     "output_type": "stream",
     "text": [
      "mean absolute error: 6.906562873151462\n",
      "mean squared error: 69.21839945814258\n",
      "root mean squared error: 8.319759579347386\n"
     ]
    }
   ],
   "source": [
    "data = pd.read_csv(\"SBP.csv\")\n",
    "print(data.head(10))\n",
    "\n",
    "plt.scatter(data[\"Age\"], data[\"SBP\"])\n",
    "plt.title(\"Dane z pliku SBP.csv\")\n",
    "plt.xlabel(\"Hours\")\n",
    "plt.ylabel(\"Scores\")\n",
    "plt.show()\n",
    "\n",
    "X = np.array(data[\"Age\"])\n",
    "X = X[:, np.newaxis]\n",
    "Y = np.array(data[\"SBP\"])\n",
    "\n",
    "\n",
    "X_train, X_test, Y_train, Y_test = sklearn.model_selection.train_test_split(X, Y, test_size=0.3)\n",
    "\n",
    "lin_reg = LinearRegression().fit(X_train, Y_train)\n",
    "print(\"\\ncoef:\", lin_reg.coef_)\n",
    "print(\"intercept:\", lin_reg.intercept_)\n",
    "\n",
    "Y_pred = lin_reg.predict(X_test)\n",
    "\n",
    "print(\"\\n\", np.abs(Y_test-Y_pred))\n",
    "\n",
    "plt.scatter(X_test, Y_test)\n",
    "plt.plot(X_test, Y_pred)\n",
    "plt.title(\"Dane testowe i predykcje modelu regresji liniowej\")\n",
    "plt.xlabel(\"Age\")\n",
    "plt.ylabel(\"SBP\")\n",
    "plt.show()\n",
    "\n",
    "print(\"mean absolute error:\", metrics.mean_absolute_error(Y_test, Y_pred))\n",
    "print(\"mean squared error:\", metrics.mean_squared_error(Y_test, Y_pred))\n",
    "print(\"root mean squared error:\", metrics.mean_squared_error(Y_test, Y_pred, squared=False))\n"
   ]
  },
  {
   "cell_type": "markdown",
   "metadata": {},
   "source": [
    "Błąd dla danych z pliku SBP.csv jest o wiele większy"
   ]
  },
  {
   "cell_type": "markdown",
   "metadata": {},
   "source": [
    "### Zadanie 2\n",
    "Na podstawie danych zawartych w pliku PETROL.csv wykonaj i oceń regresję liniową. Jako daną zależną wykorzystaj zużycie paliwa, a pozostałe - jako predyktory. Wykonanie zadania powinno składać się z kroków podobnych do tych z zadania poprzedniego.\n",
    "\n",
    "Czy uzyskane wyniki predykcji modelu są dobre? Co mogło mieć pozytywny/negatywny wpływ na taki wynik?"
   ]
  },
  {
   "cell_type": "code",
   "execution_count": 8,
   "metadata": {},
   "outputs": [
    {
     "name": "stdout",
     "output_type": "stream",
     "text": [
      "   Podatek_paliwowy  Sredni_przychod  Utwardzone_autostrady  \\\n",
      "0               9.0             3571                   1976   \n",
      "1               9.0             4092                   1250   \n",
      "2               9.0             3865                   1586   \n",
      "3               7.5             4870                   2351   \n",
      "4               8.0             4399                    431   \n",
      "5              10.0             5342                   1333   \n",
      "6               8.0             5319                  11868   \n",
      "7               8.0             5126                   2138   \n",
      "8               8.0             4447                   8577   \n",
      "9               7.0             4512                   8507   \n",
      "\n",
      "   Procent_ludnosci_z_prawem_jazdy  Zuzycie_paliwa  \n",
      "0                            0.525             541  \n",
      "1                            0.572             524  \n",
      "2                            0.580             561  \n",
      "3                            0.529             414  \n",
      "4                            0.544             410  \n",
      "5                            0.571             457  \n",
      "6                            0.451             344  \n",
      "7                            0.553             467  \n",
      "8                            0.529             464  \n",
      "9                            0.552             498  \n"
     ]
    }
   ],
   "source": [
    "data = pd.read_csv(\"PETROL.csv\")\n",
    "print(data.head(10))"
   ]
  },
  {
   "cell_type": "code",
   "execution_count": 9,
   "metadata": {},
   "outputs": [
    {
     "name": "stdout",
     "output_type": "stream",
     "text": [
      "(48, 4) (48,)\n",
      "\n",
      "coef: [-3.51022042e+01 -6.24408974e-02 -2.76927444e-03  1.03602938e+03]\n",
      "intercept: 527.062152022314\n",
      "\n",
      " wartośc absolutna Y_pred - Y_test:\n",
      "[123.97343438  14.3907939   37.23998149  28.87732105  32.45368616\n",
      "  32.26050027 272.56125218  32.5834575  118.43749225   4.50488494\n",
      "  52.25489572  75.28461334 144.41953917  36.00170197  15.23187535]\n",
      "\n",
      "mean absolute error: 68.03169531271026\n",
      "mean squared error: 9338.249289880565\n",
      "root mean squared error: 96.63461745089367\n"
     ]
    }
   ],
   "source": [
    "X = np.array(data[data.columns[:-1]])\n",
    "Y = np.array(data[data.columns[-1]])\n",
    "print(X.shape, Y.shape)\n",
    "\n",
    "X_train, X_test, Y_train, Y_test = sklearn.model_selection.train_test_split(X, Y, test_size=0.3)\n",
    "\n",
    "lin_reg = LinearRegression().fit(X_train, Y_train)\n",
    "print(\"\\ncoef:\", lin_reg.coef_)\n",
    "print(\"intercept:\", lin_reg.intercept_)\n",
    "\n",
    "Y_pred = lin_reg.predict(X_test)\n",
    "\n",
    "print(\"\\n wartośc absolutna Y_pred - Y_test:\")\n",
    "print(np.abs(Y_test-Y_pred))\n",
    "\n",
    "print(\"\\nmean absolute error:\", metrics.mean_absolute_error(Y_test, Y_pred))\n",
    "print(\"mean squared error:\", metrics.mean_squared_error(Y_test, Y_pred))\n",
    "print(\"root mean squared error:\", metrics.mean_squared_error(Y_test, Y_pred, squared=False))"
   ]
  },
  {
   "cell_type": "markdown",
   "metadata": {},
   "source": [
    "Predykcje nie są zbyt dobre; uzyskane wartości błędów są o wiele większe niż poprzednio. Wpływ na to może mieć fakt, że predyktory to cztery zmienne, do których trudno może być dopasować jedną wartość."
   ]
  },
  {
   "cell_type": "markdown",
   "metadata": {},
   "source": [
    "### Regresja logistyczna\n",
    "\n",
    "Naturalnym rozwojem modeli linowych, są uogólnione modele liniowe (*generalized linear models*). \n",
    "\n",
    "Ich przewodnią ideą jest to, że zamiast reprezentować zmienną zależną jako kombinację liniową niezależnych, staramy się stworzyć model liniowy pewnej funkcji zmiennej zależnej.\n",
    "\n",
    "$$ f(y) =  \\beta_0 + \\beta_1 x_1 + \\beta_2 x_2 +\\ldots+ \\beta_n x_n$$\n",
    "\n",
    "wymaga się, aby funkcja ta była odwracalna, dzięki czemu \n",
    "\n",
    "$$ y = f^{-1} ( \\beta_0 + \\beta_1 x_1 + \\beta_2 x_2 +\\ldots+ \\beta_n x_n)$$\n",
    "\n",
    "Takie przekształcenie stosujemy wtedy, gdy zbiór wartości zmiennej zależnej nie jest całym zbiorem liczb rzeczywistych tylko jest w jakiś sposób ograniczony. Na przykład do przedziału $[0,1]$, do wartości dodatnich lub wartości całkowitych. W tens posób można wybrać funkcję $f$, której dziedziną jest zbiór wartości $y$ zaś obrazem jest zbiór liczb rzeczywistych.\n",
    "\n",
    "Jedną z takich funkcji jest tzw. funkcja logistyczna, która odpowiada zbiorowi $[0,1]$ przez co często jest wykorzystywana do analizy prawdopodobieństwa przynależności do danej klasy, lub też inaczej jako klasyfikator.\n",
    "\n",
    "W takiej sytuacji zmienne zależne powinny przyjmować wyłącznie wartości $0$ i $1$ co odpowiada temu czy dany punkt należy do interesującej klasy. Model logistyczny poznwala na określenie estymaty prawdopodobieństwa, czy punkt należy czy nie do danej klasy. \n",
    "\n",
    "Do tworzenia modeli logistycznyc służy klasa: ```LogisticRegression```"
   ]
  },
  {
   "cell_type": "markdown",
   "metadata": {},
   "source": [
    "### Zadanie 3\n",
    "\n",
    "Na podstawie danych zawartych w pliku HEART.csv wykonaj i oceń regresję logistyczną, gdzie Twoją daną zależną jest kolumna \"num\". Wykonanie zadania powinno składać się z następujących kroków:\n",
    "\n",
    "1. Zaimportowanie niezbędnych bibliotek w szczególności tych tworzących modele liniowe z \"scikit-learn\", a także biblioteki do operacji na danych oraz tworzenia wykresów.\n",
    "2. Odczytanie danych z pliku HEART.csv. Pomocne w interpretacji danych są metody: head(), describe(), shape.\n",
    "3. Przetworzenie danych, tj: oznaczenie braku danych (\"?\") na NaN, usunięcię kolumn zawierających zbyt dużo brakujących danych (3 kolumny), usunięcie wierszy z brakującymi wartościami.\n",
    "4. Zakoduj niezależne zmienne kategorialne np: jako wartości \"dummy\", za pomoca metody get_dummies(). Zmienne kategorialne to takie, które reprezentuja przynależność do kategorii. W przypadku naszych odfiltrowanych danych będą to kolumny: cp, restecg, fbs, sex, exang. Jako, że trzy ostatnie już zapisane są w formie 0 i 1 tylko cp i restecg wymagają tej operacji.\n",
    "5. Dokonaj podziału danych na zbiory danych niezależnych (wejściowe, X) oraz zależnych (wyjściowe, y) dla swojego modelu, a następnie podziel zbiór na dane testowe i treningowe (20%).\n",
    "6. Utwróz model regresji logistycznej.\n",
    "7. Oceń wynik za pomocą dostępnych metryk (np: metody związane z modelem czy classification_report() z sklearn)\n",
    "\n",
    "Możesz również spróbować ustandaryzować dane (np: poprzez skalowanie) po podziale na zbiory treningowy i testowy."
   ]
  },
  {
   "cell_type": "code",
   "execution_count": 75,
   "metadata": {},
   "outputs": [
    {
     "name": "stdout",
     "output_type": "stream",
     "text": [
      "Index(['age', 'sex', 'cp', 'trestbps', 'chol', 'fbs', 'restecg', 'thalach',\n",
      "       'exang', 'oldpeak', 'slope', 'ca', 'thal', 'num'],\n",
      "      dtype='object')\n",
      "    age  sex  cp trestbps chol fbs  restecg thalach exang  oldpeak  num\n",
      "0    28    1   0      130  132   0        0     185     0      0.0    0\n",
      "1    29    1   0      120  243   0        1     160     0      0.0    0\n",
      "3    30    0   1      170  237   0        0     170     0      0.0    0\n",
      "4    31    0   0      100  219   0        0     150     0      0.0    0\n",
      "5    32    0   0      105  198   0        1     165     0      0.0    0\n",
      "6    32    1   0      110  225   0        1     184     0      0.0    0\n",
      "7    32    1   0      125  254   0        1     155     0      0.0    0\n",
      "8    33    1   0      120  298   0        1     185     0      0.0    0\n",
      "9    34    0   0      130  161   0        1     190     0      0.0    0\n",
      "10   34    1   0      150  214   0        0     168     0      0.0    0\n"
     ]
    }
   ],
   "source": [
    "data = pd.read_csv(\"HEART.csv\")\n",
    "# print(data.head(10))\n",
    "data = data.replace('?',np.NaN)\n",
    "data = data.rename(columns = {'num       ': 'num'})\n",
    "print(data.columns)\n",
    "data = data.dropna('columns', thresh = len(data)//2) #wyrzucenie kolumn, w których co najmniej połowa wartości to NaN\n",
    "data = data.dropna('rows', 'any') #wyrzucenie wierszy zawierających brakujące wartości\n",
    "data.cp = pd.get_dummies(data.cp)\n",
    "data.restecg = pd.get_dummies(data.restecg)\n",
    "print(data.head(10))\n",
    "\n",
    "X = np.array(data[['cp', 'restecg', 'fbs', 'sex', 'exang']], dtype=int)\n",
    "Y = np.array(data[['num']], dtype=int)\n",
    "\n",
    "# print(X.shape, Y.shape)\n",
    "\n",
    "X_train, X_test, Y_train, Y_test = sklearn.model_selection.train_test_split(X, Y, test_size=0.2)\n",
    "\n",
    "X_train = normalize(X_train)\n",
    "X_test = normalize(X_test)\n",
    "Y_train = normalize(Y_train).squeeze()\n",
    "Y_test = normalize(Y_test).squeeze()"
   ]
  },
  {
   "cell_type": "code",
   "execution_count": 76,
   "metadata": {},
   "outputs": [
    {
     "name": "stdout",
     "output_type": "stream",
     "text": [
      "              precision    recall  f1-score   support\n",
      "\n",
      "         0.0       0.84      0.91      0.87        34\n",
      "         1.0       0.81      0.68      0.74        19\n",
      "\n",
      "    accuracy                           0.83        53\n",
      "   macro avg       0.83      0.80      0.81        53\n",
      "weighted avg       0.83      0.83      0.83        53\n",
      "\n"
     ]
    }
   ],
   "source": [
    "log_reg = LogisticRegression().fit(X_train, Y_train)\n",
    "\n",
    "Y_pred = log_reg.predict(X_test)\n",
    "\n",
    "print(metrics.classification_report(Y_test, Y_pred))"
   ]
  },
  {
   "cell_type": "code",
   "execution_count": null,
   "metadata": {},
   "outputs": [],
   "source": []
  }
 ],
 "metadata": {
  "kernelspec": {
   "display_name": "Python 3",
   "language": "python",
   "name": "python3"
  },
  "language_info": {
   "codemirror_mode": {
    "name": "ipython",
    "version": 3
   },
   "file_extension": ".py",
   "mimetype": "text/x-python",
   "name": "python",
   "nbconvert_exporter": "python",
   "pygments_lexer": "ipython3",
   "version": "3.8.8"
  }
 },
 "nbformat": 4,
 "nbformat_minor": 4
}
