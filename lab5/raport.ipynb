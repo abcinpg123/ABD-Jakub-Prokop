{
 "cells": [
  {
   "cell_type": "markdown",
   "metadata": {},
   "source": [
    "# <center>Laboratorium Analiza i bazy danych </center>\n",
    "\n",
    "## <center>Łańcuchy znaków i wyrażenia regularne</center>"
   ]
  },
  {
   "cell_type": "markdown",
   "metadata": {},
   "source": [
    "## Wprowadzenie\n",
    "\n",
    "W każdym silniku baz danych istnieją mechanizmy do porównywania, dopasowywania i manipulowania ciągami znaków (*string*). \n",
    "\n",
    "Oprócz podstawowej funkcjonalności polegającej na odpowiedzi na pytanie „czy ten ciąg pasuje do tego wzoru?” w bazach danych istnieją operatory i funkcje do wyodrębniania, zastępowania i podziałów pasujących podciągów do wzorca podanego przez użytkownika.\n",
    "\n",
    "\n",
    "Istnieją trzy osobne podejścia do dopasowywania wzorców zapewniane przez PostgreSQL:  \n",
    "- LIKE/ILIKE, \n",
    "- SIMILAR TO (standard SQL:1999),  \n",
    "- wyrażenia regularne w stylu POSIX. \n",
    "\n",
    "Ten dokument ma na celu przybliżenie podstawowych funkcji działania na ciągach znakowych w PostgreSQL."
   ]
  },
  {
   "cell_type": "markdown",
   "metadata": {},
   "source": [
    "## LIKE/ILIKE\n",
    "\n",
    "Wyrażenie LIKE zwraca wartość *true*, jeśli ciąg znaków odpowiada dokładnie podanemu wzorcowi. ILIKE natomiast to klauzula umożliwiająca dopasowanie wzorca jednak nie zwraca ona uwagę na wielkość liter. Wyrażeniem przeciwnym jest NOT LIKE lub NOT ILIKE. Składnia tego wyrażenia to:\n",
    "\n",
    "string (LIKE|ILIKE) wzorzec,\n",
    "string NOT (LIKE|ILIKE) wzorzec\n",
    "\n",
    "Przy tym typie klauzuli wzorce tworzymy przy użyciu dwóch operatorów:\n",
    "- _ - zastępuje pojedynczy znak,\n",
    "- % - zastępuje dowolną długość znaków.\n",
    "\n",
    "#### Przykład:\n",
    "|Wyrażenie|Wynik|\n",
    "|---|---:|\n",
    "|'abc' LIKE 'abc'|   true|  \n",
    "|'abc' LIKE 'a%'|    true|  \n",
    "|'abc' LIKE '_b_'|   true|  \n",
    "|'abc' LIKE 'c'   |   false|  \n",
    "|'ABC' ILIKE 'abc'|   true | \n",
    "|'ABC' LIKE 'abc'|    false| \n",
    "\n",
    "Klauzule LIKE/ILIKE można zastąpić operatorami:\n",
    "- ~~ równoważny do LIKE\n",
    "- ~~\\*  równoważny do ILIKE  \n",
    "- !~~  równoważny do LIKE  \n",
    "- !~~\\* równoważny do NOT ILIKE"
   ]
  },
  {
   "cell_type": "markdown",
   "metadata": {},
   "source": [
    "## SIMILAR TO\n",
    "Klauzula SIMILAR TO tak samo jak LIKE/ILIKE zwraca wartość *true* lub *false* w zależności od tego, czy podany wzorzec pasuje do podanego ciągu. Różnica pomiędzy tymi operatorami polega na tym, że SIMILAR TO interpretuje wzorzec za pomocą definicji wyrażenia regularnego w standardzie SQL. Wyrażenia regularne SQL są połączeniem notacji LIKE i zwykłej notacji wyrażeń regularnych (POSIX).\n",
    "\n",
    "Składnia tego zapytania ma postać:\n",
    "\n",
    "string SIMILAR TO wzorzec,\n",
    "string NOT SIMILAR TO wzorzec\n",
    "\n",
    "Oprócz funkcji zapożyczonych z LIKE, SIMILAR TO obsługuje te metaznaki pasujące do wzorca zapożyczone z wyrażeń regularnych POSIX:\n",
    "\n",
    "- \\| - oznacza naprzemienność (jedną z dwóch alternatyw).\n",
    "- \\* - oznacza powtórzenie poprzedniego elementu zero lub więcej razy.\n",
    "- \\+ - oznacza powtórzenie poprzedniego elementu jeden lub więcej razy.\n",
    "- \\? - oznacza powtórzenie poprzedniego elementu zero lub jeden raz.\n",
    "- {m} - oznacza powtórzenie poprzedniego elementu dokładnie m razy.\n",
    "- {m,} - oznacza powtórzenie poprzedniego elementu m lub więcej razy.\n",
    "- {m, n} - oznacza powtórzenie poprzedniego elementu co najmniej mi nie więcej niż n razy.\n",
    "\n",
    "Nawiasów () można używać do grupowania elementów w jeden element logiczny. Wyrażenie w nawiasie \\[...\\] określa klasę znaków, podobnie jak w wyrażeniach regularnych POSIX.\n",
    "\n",
    "|Wyrażenie|Wynik|\n",
    "|---|---:|\n",
    "|'abc' SIMILAR TO 'abc'|     true|\n",
    "|'abc' SIMILAR TO 'a'|        false|\n",
    "|'abc' SIMILAR TO '%(b\\|d)%'| true|\n",
    "|'abc' SIMILAR TO '(b\\|c)%'|   false|"
   ]
  },
  {
   "cell_type": "markdown",
   "metadata": {},
   "source": [
    "## Składnia POSIX\n",
    "\n",
    "Wyrażenia regularne POSIX zapewniają więcej reguł tworzenia wzorców niż operatory LIKE i SIMILAR TO. Wiele narzędzi uniksowych, takich jak grep, sed lub awk, używa języka dopasowywania wzorców podobnego do tego używanego w PostgreSQL.\n",
    "\n",
    "Wyrażenie regularne to opis ciągu znaków przy użyciu symboli w celu utworzenia wzorca ciągu, która umożliwia dopasowanie wzorców. Mówi się, że łańcuch pasuje do wyrażenia regularnego, jeśli jest on członkiem zbioru regularnego opisanego przez wyrażenie regularne. Podobnie jak w przypadku LIKE, znaki wzorcowe dokładnie pasują do znaków łańcuchowych, chyba że są znakami specjalnymi w języku wyrażeń regularnych - ale wyrażenia regularne używają innych znaków specjalnych niż LIKE. W przeciwieństwie do wzorców LIKE, wyrażenie regularne może pasować w dowolnym miejscu ciągu, chyba że wyrażenie regularne jest wyraźnie zakotwiczone na początku (^) lub na końcu łańcucha ($).\n",
    "\n",
    "Używanie tego rodzaju dopasowania ciągu znaków odbywa się przez operatory:\n",
    "\n",
    "- ~\tpasuje do wzorca , wielkość liter ma znaczenie\n",
    "- ~\\*\tpasuje do wzorca , wielkość liter nie ma znaczenie\t\n",
    "- !~\tnie pasuje do wzorca , wielkość liter ma znaczenie\t\n",
    "- !~\\*\tnie pasuje do wzorca , wielkość liter nie ma znaczenie\n",
    "\n",
    "#### Przykład:\n",
    "|Wyrażenie|Wynik|\n",
    "|---|---:|\n",
    "|'abc' ~ 'abc'|    true|\n",
    "|'abc' ~ '^a' |    true|\n",
    "|'abc' ~ '(b\\|d)'|  true|\n",
    "|'abc' ~ '^(b\\|c)'| false|\n",
    "\n",
    "Język zapytań regularnych w PostgreSQL który będzie omawiany na zajęciach składa się z:\n",
    "\n",
    "|Wzorzec|Dopasowanie|\n",
    "|---|---|\n",
    "|\\* |sekwencja 0 lub więcej dopasowań atomu|\n",
    "|\\+ |sekwencja 1 lub więcej dopasowań atomu|\n",
    "|\\? |sekwencja 0 lub 1 dopasowań atomu\n",
    "|{m.} |sekwencja dokładnie m dopasowań atomu|\n",
    "|{m,} |sekwencja m lub więcej dopasowań atomu|\n",
    "|{m, n}| sekwencja od m do n (włącznie) dopasowań atomu; m nie może przekraczać n|\n",
    "|^| dopasuj od początku łańcucha znaków|\n",
    "|$| dopasuj od końca łańcucha znaków|\n",
    "\n",
    "Formularze używające {...} są znane jako granice. Liczby min w granicach są liczbami całkowitymi dziesiętnymi bez znaku z dopuszczalnymi wartościami od 0 do 255 włącznie.\n",
    "\n",
    "Pełny opis omawianych funkcjonalności dostępny jest w [dokumentacji PostgreSQL](https://www.postgresql.org/docs/9.3/functions-matching.html) "
   ]
  },
  {
   "cell_type": "markdown",
   "metadata": {},
   "source": [
    "## Wybrane funkcje działające na znakach\n",
    "\n",
    "Poza funkcją dopasowania w PostgreSQL istnieje również szereg funkcji predefiniowanych niepozwalających działanie ciągach znaków. W poniższej tabeli przedstawiono wybrane funkcje:\n",
    "\n",
    "|Funkcja| Opis| Przykład| Wynik|\n",
    "|:---|:---|:---:|---:|\n",
    "|ASCII| Zwraca wartość kodu ASCII znaku lub punktu kodu Unicode znaku UTF8<br><br>| ASCII ('A')| 65|\n",
    "|CHR |Konwertuj kod ASCII na znak lub punkt kodu Unicode na znak UTF8<br><br>|CHR (65) |'A'|\n",
    "|CONCAT| Połączenie dwóch lub więcej ciągów w jeden<br><br>| CONCAT('A', 'B', 'C')| 'ABC'|\n",
    "|CONCAT_WS| Połączenie ciągów znaków z separatorem<br><br>| CONCAT_WS(',', 'A', 'B', 'C')| 'A, B, C'|\n",
    "|FORMAT| Łącznie ciągów zgodnie z zadanym wzorcem formatowania<br><br>| FORMAT('Witaj% s', 'PostgreSQL') |'Witaj PostgreSQL'|\n",
    "|INITCAP| Konwertuj łańcuch znaków w styl nagłówka<br><br>| INITCAP('CZEść wAM') |\"Cześć Wam\"|\n",
    "|LEFT| Zwraca pierwszy n znaku z lewej strony ciągu<br><br>| LEFT('ABC', 1) |'A'|\n",
    "|LENGTH| Zwraca liczbę znaków w ciągu<br><br>| LENGTH('ABC')| 3|\n",
    "|LOWER| Konwertuj ciąg na małe litery<br><br>|LOWER ('czEŚĆ wAM')| 'cześć wam'|\n",
    "|LPAD| Uzupełnieni z lewej strony ciągu do zadanej długości zadanym ciągiem<br><br>|LPAD('123', 5, '00')| '00123'|\n",
    "|LTRIM| Usuwanie najdłuższego ciąg zawierającego określone znaki z lewej strony ciągu wejściowego<br><br>| LTRIM ('00123')|'123'|\n",
    "|MD5| Zwraca skrót MD5 ciągu szesnastkowego<br><br>| MD5('ABC')||\n",
    "|POSITION| Zwraca lokalizację pod łańcucha w ciągu<br><br>| POSTION('B' w 'A B C') |3|\n",
    "|REGEXP_MATCHES| Dopasuj wyrażenie regularne POSIX do łańcucha i zwraca pasujące podciągi<br><br>| REGEXP_MATCHES ('ABC', '^(A)(..)$', 'g');| {ABC}|\n",
    "|REGEXP_REPLACE| Zamienia podciągi pasujące do wyrażenia regularnego POSIX na nowy podciąg<br><br>| REGEXP_REPLACE ('John Doe','(.*)(.*)’,’\\2, \\1′);| 'Doe, John'|\n",
    "|REPEAT| Powtarza ciąg określoną liczbę razy<br><br>| REPEAT('\\*', 5)| '\\*\\*\\*\\*\\*'|\n",
    "|REPLACE| Zamienia wszystkie wystąpienia w ciągu pod łańcucha z podciągu na zadany <br><br>REPLACE('ABC', 'B', 'A')| 'AAC'|\n",
    "|REVERSE| Odwrócenie ciągu<br><br>| REVERSE ('ABC') 'CBA'|\n",
    "|RIGHT| Zwraca ostatnie n znaków w ciągu. Kiedy n jest ujemne, zwracaj wszystkie oprócz pierwszego<br><br>| RIGHT('ABC', 2)| 'BC'|\n",
    "|RPAD| Uzupełnieni z prawej strony ciągu do zadanej długości zadanym ciągiem<br><br>| RPAD('ABC', 6, 'xo') | 'ABCxox'|\n",
    "|RTRIM| Usuwa najdłuższy ciąg zawierający określone znaki z prawej strony ciągu wejściowego<br><br>| RTRIM 'abcxxzx', 'xyz')|'abc'|\n",
    "|SPLIT_PART| Dzieli ciąg na określonym ograniczniku i zwraca n-ty pod łańcuch<br><br>| SPLIT_PART('2017-12-31′, ’-', 2)| ’12’|\n",
    "|SUBSTRING| Wyodrębnia podciąg z ciągu<br><br>| SUBSTRING('ABC', 1,1)| 'A'|\n",
    "|TRIM| Usuwa najdłuższy ciąg zawierający określone znaki z lewej, prawej lub obu ciągów wejściowych<br><br>| TRIM('ABC')| 'ABC'|\n",
    "|UPPER| Konwertuje ciąg na wielkie litery<br><br>|UPPER('CZEść wAM') |'CZEŚĆ WAM'|\n"
   ]
  },
  {
   "cell_type": "markdown",
   "metadata": {},
   "source": [
    "## Zadania:\n",
    "1. Znajdź wszystkie nazwy krajów rozpoczynających się na P.\n",
    "2. Znajdź wszystkie nazwy krajów rozpoczynających się  P i kończących na s.\n",
    "3. Znajdź wszystkie tytuły filmów, w których znajdują się cyfry.\n",
    "4. Znajdź wszystkich pracowników z podwójnym imieniem lub nazwiskiem.\n",
    "5. Znajdź wszystkie nazwiska aktorów rozpoczynających się od P lub C i mających 5 znaków.\n",
    "6. Znajdź wszystkie tytuły filmów, w których występują słowa Trip lub Alone.\n",
    "7. Przeanalizuj zapytania:\n",
    "\t- select first_name from actor where first_name ~ '^ Al\\[a: z, 1: 9\\] *'\n",
    "\t- select first_name from actor where first_name ~ * '^ al\\[a: z, 1: 9\\] *'\n"
   ]
  },
  {
   "cell_type": "markdown",
   "metadata": {},
   "source": [
    "1."
   ]
  },
  {
   "cell_type": "code",
   "execution_count": 1,
   "metadata": {},
   "outputs": [
    {
     "name": "stdout",
     "output_type": "stream",
     "text": [
      "       country\n",
      "0     Pakistan\n",
      "1     Paraguay\n",
      "2         Peru\n",
      "3  Philippines\n",
      "4       Poland\n",
      "5  Puerto Rico\n"
     ]
    }
   ],
   "source": [
    "import numpy as np\n",
    "\n",
    "import psycopg2 as pg\n",
    "import pandas.io.sql as psql\n",
    "import pandas as pd\n",
    "\n",
    "connection = pg.connect(host='pgsql-196447.vipserv.org', port=5432, dbname='wbauer_adb', user='wbauer_adb', password='adb2020');\n",
    "df = pd.read_sql(\"SELECT country FROM country WHERE country LIKE 'P%'\",con=connection)\n",
    "print(df)"
   ]
  },
  {
   "cell_type": "markdown",
   "metadata": {},
   "source": [
    "2."
   ]
  },
  {
   "cell_type": "code",
   "execution_count": 52,
   "metadata": {},
   "outputs": [
    {
     "name": "stdout",
     "output_type": "stream",
     "text": [
      "       country\n",
      "0  Philippines\n"
     ]
    }
   ],
   "source": [
    "connection = pg.connect(host='pgsql-196447.vipserv.org', port=5432, dbname='wbauer_adb', user='wbauer_adb', password='adb2020');\n",
    "df = pd.read_sql(\"SELECT country FROM country WHERE country like 'P%s'\",con=connection)\n",
    "print(df)"
   ]
  },
  {
   "cell_type": "markdown",
   "metadata": {},
   "source": [
    "3."
   ]
  },
  {
   "cell_type": "code",
   "execution_count": 61,
   "metadata": {},
   "outputs": [
    {
     "name": "stdout",
     "output_type": "stream",
     "text": [
      "Empty DataFrame\n",
      "Columns: [title]\n",
      "Index: []\n"
     ]
    }
   ],
   "source": [
    "connection = pg.connect(host='pgsql-196447.vipserv.org', port=5432, dbname='wbauer_adb', user='wbauer_adb', password='adb2020');\n",
    "df = pd.read_sql(\"select title from film where title SIMILAR TO '%(0|1|2|3|4|5|6|7|8|9)%'\",con=connection)\n",
    "print(df)"
   ]
  },
  {
   "cell_type": "markdown",
   "metadata": {},
   "source": [
    "4."
   ]
  },
  {
   "cell_type": "code",
   "execution_count": 64,
   "metadata": {},
   "outputs": [
    {
     "name": "stdout",
     "output_type": "stream",
     "text": [
      "Empty DataFrame\n",
      "Columns: [first_name, last_name]\n",
      "Index: []\n"
     ]
    }
   ],
   "source": [
    "connection = pg.connect(host='pgsql-196447.vipserv.org', port=5432, dbname='wbauer_adb', user='wbauer_adb', password='adb2020');\n",
    "df = pd.read_sql(\"SELECT first_name, last_name FROM staff WHERE first_name SIMILAR TO '%( )%' OR last_name SIMILAR TO '%( )%'\",con=connection)\n",
    "print(df)\n",
    "\n",
    "# 'staff' to 2 pracowników i żaden nie pasuje do zapytania"
   ]
  },
  {
   "cell_type": "markdown",
   "metadata": {},
   "source": [
    "5."
   ]
  },
  {
   "cell_type": "code",
   "execution_count": 69,
   "metadata": {},
   "outputs": [
    {
     "name": "stdout",
     "output_type": "stream",
     "text": [
      "  first_name last_name\n",
      "0         Ed     Chase\n",
      "1       Burt     Posey\n",
      "2    Kenneth     Pesci\n",
      "3     Sidney     Crowe\n",
      "4        Jon     Chase\n",
      "5    Russell     Close\n"
     ]
    }
   ],
   "source": [
    "connection = pg.connect(host='pgsql-196447.vipserv.org', port=5432, dbname='wbauer_adb', user='wbauer_adb', password='adb2020');\n",
    "df = pd.read_sql(\"SELECT first_name, last_name FROM actor WHERE last_name SIMILAR TO '(P|C)____'\",con=connection)\n",
    "print(df)"
   ]
  },
  {
   "cell_type": "markdown",
   "metadata": {},
   "source": [
    "6."
   ]
  },
  {
   "cell_type": "code",
   "execution_count": 71,
   "metadata": {},
   "outputs": [
    {
     "name": "stdout",
     "output_type": "stream",
     "text": [
      "           title\n",
      "0     Alone Trip\n",
      "1  Superfly Trip\n",
      "2    Trip Newton\n",
      "3   Varsity Trip\n"
     ]
    }
   ],
   "source": [
    "connection = pg.connect(host='pgsql-196447.vipserv.org', port=5432, dbname='wbauer_adb', user='wbauer_adb', password='adb2020');\n",
    "df = pd.read_sql(\"SELECT title from film WHERE title ~ 'Trip' OR title ~ 'Alone'\",con=connection)\n",
    "print(df)"
   ]
  },
  {
   "cell_type": "markdown",
   "metadata": {},
   "source": [
    "7."
   ]
  },
  {
   "cell_type": "code",
   "execution_count": 72,
   "metadata": {},
   "outputs": [
    {
     "name": "stdout",
     "output_type": "stream",
     "text": [
      "Empty DataFrame\n",
      "Columns: [first_name]\n",
      "Index: []\n"
     ]
    }
   ],
   "source": [
    "connection = pg.connect(host='pgsql-196447.vipserv.org', port=5432, dbname='wbauer_adb', user='wbauer_adb', password='adb2020');\n",
    "df = pd.read_sql(\"select first_name from actor where first_name ~ '^ Al\\[a: z, 1: 9\\] *'\",con=connection)\n",
    "print(df)"
   ]
  },
  {
   "cell_type": "code",
   "execution_count": 75,
   "metadata": {},
   "outputs": [],
   "source": [
    "# connection = pg.connect(host='pgsql-196447.vipserv.org', port=5432, dbname='wbauer_adb', user='wbauer_adb', password='adb2020');\n",
    "# df = pd.read_sql(\"select first_name from actor where first_name ~ * '^ al\\[a: z, 1: 9\\] *'\",con=connection)\n",
    "# print(df)\n",
    "\n",
    "## zwraca błąd"
   ]
  },
  {
   "cell_type": "markdown",
   "metadata": {},
   "source": [
    "## Zadanie implementacyjne\n",
    "Zaimplementuj wszystkie funkcje w pliku main.py zgodnie z opisem a następnie przetestuj je w notatniku.\n"
   ]
  },
  {
   "cell_type": "code",
   "execution_count": 2,
   "metadata": {},
   "outputs": [
    {
     "name": "stdout",
     "output_type": "stream",
     "text": [
      "============================= test session starts =============================\n",
      "platform win32 -- Python 3.8.8, pytest-6.2.4, py-1.10.0, pluggy-0.13.1\n",
      "rootdir: c:\\Users\\48571\\OneDrive - Akademia Górniczo-Hutnicza im. Stanisława Staszica w Krakowie\\Dokumenty\\ABD-Jakub-Prokop\\lab5\n",
      "plugins: anyio-2.2.0\n",
      "collected 26 items\n",
      "\n",
      "test_main.py ..........................                                  [100%]\n",
      "\n",
      "============================== warnings summary ===============================\n",
      "D:\\ProgramData\\Anaconda3\\lib\\site-packages\\pyreadline\\py3k_compat.py:8\n",
      "  D:\\ProgramData\\Anaconda3\\lib\\site-packages\\pyreadline\\py3k_compat.py:8: DeprecationWarning: Using or importing the ABCs from 'collections' instead of from 'collections.abc' is deprecated since Python 3.3, and in 3.9 it will stop working\n",
      "    return isinstance(x, collections.Callable)\n",
      "\n",
      "-- Docs: https://docs.pytest.org/en/stable/warnings.html\n",
      "======================== 26 passed, 1 warning in 2.51s ========================\n"
     ]
    }
   ],
   "source": [
    "!python -m pytest"
   ]
  },
  {
   "cell_type": "code",
   "execution_count": null,
   "metadata": {},
   "outputs": [],
   "source": []
  }
 ],
 "metadata": {
  "interpreter": {
   "hash": "73e03da126b73bfff3642ec5261d56fa25c444ea595de51041687efaa60dda41"
  },
  "kernelspec": {
   "display_name": "Python 3.8.8 64-bit ('base': conda)",
   "name": "python3"
  },
  "language_info": {
   "codemirror_mode": {
    "name": "ipython",
    "version": 3
   },
   "file_extension": ".py",
   "mimetype": "text/x-python",
   "name": "python",
   "nbconvert_exporter": "python",
   "pygments_lexer": "ipython3",
   "version": "3.8.8"
  }
 },
 "nbformat": 4,
 "nbformat_minor": 2
}
